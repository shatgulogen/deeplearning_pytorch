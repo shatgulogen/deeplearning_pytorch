{
  "nbformat": 4,
  "nbformat_minor": 0,
  "metadata": {
    "colab": {
      "provenance": [],
      "gpuType": "T4",
      "authorship_tag": "ABX9TyNUZkr/6YuTB4VXlIov81YO"
    },
    "kernelspec": {
      "name": "python3",
      "display_name": "Python 3"
    },
    "language_info": {
      "name": "python"
    },
    "accelerator": "GPU"
  },
  "cells": [
    {
      "cell_type": "markdown",
      "source": [
        "#04. PyTorch Custom Datasets\n",
        "\n",
        "\n",
        "Find a dataset, turn the dataset into numbers, build a model (or find an existing model) to find patterns in those numbers that can be used for prediction. PyTorch has many built-in datasets used for a wide number of machine learning benchmarks, however, you'll often want to use your own custom dataset.\n",
        "\n",
        "##What is a custom dataset?\n",
        "A custom dataset is a collection of data relating to a specific problem you're working on. In essence, a custom dataset can be comprised of almost anything. For example, if we were building a food image classification app like [Nutrify](https://nutrify.app/), our custom dataset might be images of food. Or if we were trying to build a model to classify whether or not a text-based review on a website was positive or negative, our custom dataset might be examples of existing customer reviews and their ratings.\n",
        "\n",
        "Or if we were trying to build a sound classification app, our custom dataset might be sound samples alongside their sample labels.\n",
        "\n",
        "Or if we were trying to build a recommendation system for customers purchasing things on our website, our custom dataset might be examples of products other people have bought.\n",
        "\n",
        "PyTorch includes many existing functions to load in various custom datasets in the `TorchVision`, `TorchText`, `TorchAudio` and `TorchRec` domain libraries.\n",
        "But sometimes these existing functions may not be enough. In that case, we can always subclass `torch.utils.data.Dataset` and customize it to our liking.\n",
        "\n",
        "What we're going to cover in this notebook\n",
        "We're going to be applying the PyTorch Workflow we covered in notebook 01 and notebook 02 to a computer vision problem. But instead of using an in-built PyTorch dataset, we're going to be using our own dataset of pizza, steak and sushi images. The goal will be to load these images and then build a model to train and predict on them.\n",
        "\n",
        "What we're going to build. We'll use `torchvision.datasets` as well as our own custom Dataset class to load in images of food and then we'll build a PyTorch computer vision model to hopefully be able to classify them.\n"
      ],
      "metadata": {
        "id": "NJ0S-OkMO4Gi"
      }
    },
    {
      "cell_type": "markdown",
      "source": [
        "Specifically, we're going to cover:\n",
        "\n",
        "**0. Importing PyTorch and setting up device-agnostic code**\n",
        "Let's get PyTorch loaded and then follow best practice to setup our code to be device-agnostic.\n",
        "\n",
        "**1. Get data**\n",
        "\n",
        "We're going to be using our own custom dataset of pizza, steak and sushi images.\n",
        "\n",
        "**2. Become one with the data (data preparation)**\n",
        "\n",
        "At the beginning of any new machine learning problem, it's paramount to understand the data you're working with. Here we'll take some steps to figure out what data we have.\n",
        "\n",
        "**3. Transforming data**\n",
        "\n",
        "Often, the data you get won't be 100% ready to use with a machine learning model, here we'll look at some steps we can take to transform our images so they're ready to be used with a model.\n",
        "\n",
        "**4. Loading data with ImageFolder (option 1)**\n",
        "\n",
        "PyTorch has many in-built data loading functions for common types of data. ImageFolder is helpful if our images are in standard image classification format.\n",
        "\n",
        "**5. Loading image data with a custom Dataset**\n",
        "\n",
        "What if PyTorch didn't have an in-built function to load data with? This is where we can build our own custom subclass of torch.utils.data.Dataset.\n",
        "\n",
        "**6. Other forms of transforms (data augmentation)**\n",
        "\n",
        "Data augmentation is a common technique for expanding the diversity of your training data. Here we'll explore some of torchvision's in-built data augmentation functions.\n",
        "\n",
        "**7. Model 0: TinyVGG without data augmentation**\n",
        "\n",
        "By this stage, we'll have our data ready, let's build a model capable of fitting it. We'll also create some training and testing functions for training and evaluating our model.\n",
        "\n",
        "**8. Exploring loss curves**\n",
        "\n",
        "Loss curves are a great way to see how your model is training/improving over time. They're also a good way to see if your model is **underfitting** or **overfitting**.\n",
        "\n",
        "**9. Model 1: TinyVGG with data augmentation**\n",
        "\n",
        "By now, we've tried a model without, how about we try one with data augmentation?\n",
        "\n",
        "**10. Compare model results**\n",
        "\n",
        "Let's compare our different models' loss curves and see which performed better and discuss some options for improving performance.\n",
        "\n",
        "**11. Making a prediction on a custom image**\n",
        "\n",
        "Our model is trained to on a dataset of pizza, steak and sushi images. In this section we'll cover how to use our trained model to predict on an image outside of our existing dataset."
      ],
      "metadata": {
        "id": "WH9gpx4QQafG"
      }
    },
    {
      "cell_type": "markdown",
      "source": [
        "#0. Importing PyTorch and setting up device-agnostic code"
      ],
      "metadata": {
        "id": "3YYCCYUyZ1aJ"
      }
    },
    {
      "cell_type": "code",
      "execution_count": 2,
      "metadata": {
        "colab": {
          "base_uri": "https://localhost:8080/",
          "height": 38
        },
        "id": "iCxzBrZLOjM7",
        "outputId": "644500dd-25a2-4f1b-871f-21a3e4e7f611"
      },
      "outputs": [
        {
          "output_type": "execute_result",
          "data": {
            "text/plain": [
              "'2.5.1+cu124'"
            ],
            "application/vnd.google.colaboratory.intrinsic+json": {
              "type": "string"
            }
          },
          "metadata": {},
          "execution_count": 2
        }
      ],
      "source": [
        "import torch\n",
        "from torch import nn\n",
        "\n",
        "# Note: this notebook requires torch >= 1.10.0\n",
        "torch.__version__"
      ]
    },
    {
      "cell_type": "markdown",
      "source": [
        "And now let's follow best practice and setup device-agnostic code."
      ],
      "metadata": {
        "id": "K7aUN3E1Z9Ru"
      }
    },
    {
      "cell_type": "code",
      "source": [
        "# Setup device-agnostic code\n",
        "device = \"cuda\" if torch.cuda.is_available() else \"cpu\"\n",
        "device"
      ],
      "metadata": {
        "colab": {
          "base_uri": "https://localhost:8080/",
          "height": 38
        },
        "id": "eXwXkdSXZ5qi",
        "outputId": "80461003-91fd-4ac1-ad6b-05407984f6ef"
      },
      "execution_count": 3,
      "outputs": [
        {
          "output_type": "execute_result",
          "data": {
            "text/plain": [
              "'cuda'"
            ],
            "application/vnd.google.colaboratory.intrinsic+json": {
              "type": "string"
            }
          },
          "metadata": {},
          "execution_count": 3
        }
      ]
    },
    {
      "cell_type": "markdown",
      "source": [
        "#1. Get data\n",
        "Machine learning is an iterative process, start small, get something working and increase when necessary. The data we're going to be using is a subset of the [Food101 dataset](https://data.vision.ee.ethz.ch/cvl/datasets_extra/food-101/).\n",
        "\n",
        "Food101 is popular computer vision benchmark as it contains 1000 images of 101 different kinds of foods, totaling 101,000 images (75,750 train and 25,250 test).\n",
        "\n",
        "Instead of 101 food classes, we're going to start with 3: pizza, steak and sushi. And instead of 1,000 images per class, we're going to start with a random 10% (start small, increase when necessary).\n",
        "\n",
        "If you'd like to see where the data came from you see the following resources:\n",
        "\n",
        "\n",
        "*   Original [Food101 dataset and paper website.](https://data.vision.ee.ethz.ch/cvl/datasets_extra/food-101/)\n",
        "*   `torchvision.datasets.Food101` - the version of the data we downloaded for this notebook.\n",
        "*   `extras/04_custom_data_creation.ipynb` - a notebook we used to format the Food101 dataset to use for this notebook.\n",
        "*   `data/pizza_steak_sushi.zip` - the zip archive of pizza, steak and sushi images from Food101, created with the notebook linked above.\n",
        "\n",
        "Let's write some code to download the formatted data from GitHub.\n",
        "\n",
        "Note: The dataset we're about to use has been pre-formatted for what we'd like to use it for. However, you'll often have to format your own datasets for whatever problem you're working on. This is a regular practice in the machine learning world.\n"
      ],
      "metadata": {
        "id": "-lvtRQClbcmn"
      }
    },
    {
      "cell_type": "code",
      "source": [
        "import requests\n",
        "import zipfile\n",
        "from pathlib import Path\n",
        "\n",
        "# Setup path to data folder\n",
        "data_path = Path(\"data/\")\n",
        "image_path = data_path / \"pizza_steak_sushi\"\n",
        "\n",
        "# If the image folder doesn't exist, download it and prepare it...\n",
        "if image_path.is_dir():\n",
        "    print(f\"{image_path} directory exists.\")\n",
        "else:\n",
        "    print(f\"Did not find {image_path} directory, creating one...\")\n",
        "    image_path.mkdir(parents=True, exist_ok=True)\n",
        "\n",
        "    # Download pizza, steak, sushi data\n",
        "    with open(data_path / \"pizza_steak_sushi.zip\", \"wb\") as f:\n",
        "        request = requests.get(\"https://github.com/mrdbourke/pytorch-deep-learning/raw/main/data/pizza_steak_sushi.zip\")\n",
        "        print(\"Downloading pizza, steak, sushi data...\")\n",
        "        f.write(request.content)\n",
        "\n",
        "    # Unzip pizza, steak, sushi data\n",
        "    with zipfile.ZipFile(data_path / \"pizza_steak_sushi.zip\", \"r\") as zip_ref:\n",
        "        print(\"Unzipping pizza, steak, sushi data...\")\n",
        "        zip_ref.extractall(image_path)"
      ],
      "metadata": {
        "colab": {
          "base_uri": "https://localhost:8080/"
        },
        "id": "fK7Y9r8Fmo_V",
        "outputId": "3360c37a-cfda-4a6c-d6bc-5eb9496aaa71"
      },
      "execution_count": 4,
      "outputs": [
        {
          "output_type": "stream",
          "name": "stdout",
          "text": [
            "Did not find data/pizza_steak_sushi directory, creating one...\n",
            "Downloading pizza, steak, sushi data...\n",
            "Unzipping pizza, steak, sushi data...\n"
          ]
        }
      ]
    },
    {
      "cell_type": "markdown",
      "source": [
        "#2. Data preparation\n",
        "This is another important step before building a model.\n",
        "\n",
        "Before starting a project or building any kind of model, it's important to know what data you're working with. In our case, we have images of pizza, steak and sushi in standard image classification format.\n",
        "\n",
        "Image classification format contains separate classes of images in separate directories titled with a particular class name.\n",
        "\n",
        "For example, all images of pizza are contained in the pizza/ directory.\n",
        "\n",
        "This format is popular across many different image classification benchmarks, including [ImageNet](https://www.image-net.org/) (of the most popular computer vision benchmark datasets).\n",
        "\n",
        "You can see an example of the storage format below, the images numbers are arbitrary.\n",
        "\n",
        "pizza_steak_sushi/ <- overall dataset folder\n",
        "    train/ <- training images\n",
        "        pizza/ <- class name as folder name\n",
        "            image01.jpeg\n",
        "            image02.jpeg\n",
        "            ...\n",
        "        steak/\n",
        "            image24.jpeg\n",
        "            image25.jpeg\n",
        "            ...\n",
        "        sushi/\n",
        "            image37.jpeg\n",
        "            ...\n",
        "    test/ <- testing images\n",
        "        pizza/\n",
        "            image101.jpeg\n",
        "            image102.jpeg\n",
        "            ...\n",
        "        steak/\n",
        "            image154.jpeg\n",
        "            image155.jpeg\n",
        "            ...\n",
        "        sushi/\n",
        "            image167.jpeg\n",
        "            ...\n",
        "The goal will be to take this data storage structure and turn it into a dataset usable with PyTorch.\n",
        "\n",
        "Note: The structure of the data you work with will vary depending on the problem you're working on. But the premise still remains: become one with the data, then find a way to best turn it into a dataset compatible with PyTorch.\n",
        "\n",
        "We can inspect what's in our data directory by writing a small helper function to walk through each of the subdirectories and count the files present.\n",
        "\n",
        "To do so, we'll use Python's in-built `os.walk()`.\n"
      ],
      "metadata": {
        "id": "_M85X1vHmWIK"
      }
    },
    {
      "cell_type": "code",
      "source": [
        "import os\n",
        "def walk_through_dir(dir_path):\n",
        "  \"\"\"\n",
        "  Walks through dir_path returning its contents.\n",
        "  Args:\n",
        "    dir_path (str or pathlib.Path): target directory\n",
        "\n",
        "  Returns:\n",
        "    A print out of:\n",
        "      number of subdiretories in dir_path\n",
        "      number of images (files) in each subdirectory\n",
        "      name of each subdirectory\n",
        "  \"\"\"\n",
        "  for dirpath, dirnames, filenames in os.walk(dir_path):\n",
        "    print(f\"There are {len(dirnames)} directories and {len(filenames)} images in '{dirpath}'.\")"
      ],
      "metadata": {
        "id": "zGO056gfaJib"
      },
      "execution_count": 5,
      "outputs": []
    },
    {
      "cell_type": "code",
      "source": [
        "walk_through_dir(image_path)"
      ],
      "metadata": {
        "colab": {
          "base_uri": "https://localhost:8080/"
        },
        "id": "nrNxIOwzn9TC",
        "outputId": "a75e8ccf-ed45-4965-c7b1-ed5f38a99975"
      },
      "execution_count": 6,
      "outputs": [
        {
          "output_type": "stream",
          "name": "stdout",
          "text": [
            "There are 2 directories and 0 images in 'data/pizza_steak_sushi'.\n",
            "There are 3 directories and 0 images in 'data/pizza_steak_sushi/train'.\n",
            "There are 0 directories and 72 images in 'data/pizza_steak_sushi/train/sushi'.\n",
            "There are 0 directories and 78 images in 'data/pizza_steak_sushi/train/pizza'.\n",
            "There are 0 directories and 75 images in 'data/pizza_steak_sushi/train/steak'.\n",
            "There are 3 directories and 0 images in 'data/pizza_steak_sushi/test'.\n",
            "There are 0 directories and 31 images in 'data/pizza_steak_sushi/test/sushi'.\n",
            "There are 0 directories and 25 images in 'data/pizza_steak_sushi/test/pizza'.\n",
            "There are 0 directories and 19 images in 'data/pizza_steak_sushi/test/steak'.\n"
          ]
        }
      ]
    },
    {
      "cell_type": "markdown",
      "source": [
        "It looks like we've got about 75 images per training class and 25 images per testing class.\n",
        "\n",
        "That should be enough to get started. These images are subsets of the original Food101 dataset.\n",
        "\n",
        "You can see how they were created in the [data creation notebook](https://github.com/mrdbourke/pytorch-deep-learning/blob/main/extras/04_custom_data_creation.ipynb).\n",
        "\n",
        "While we're at it, let's setup our training and testing paths."
      ],
      "metadata": {
        "id": "QP69At-CqPNV"
      }
    },
    {
      "cell_type": "code",
      "source": [
        "# Setup train and testing paths\n",
        "train_dir = image_path / \"train\"\n",
        "test_dir = image_path / \"test\"\n",
        "\n",
        "train_dir, test_dir"
      ],
      "metadata": {
        "colab": {
          "base_uri": "https://localhost:8080/"
        },
        "id": "MY36udW0qMOd",
        "outputId": "77382725-cba2-4edc-94c3-a00c8c3a7010"
      },
      "execution_count": 7,
      "outputs": [
        {
          "output_type": "execute_result",
          "data": {
            "text/plain": [
              "(PosixPath('data/pizza_steak_sushi/train'),\n",
              " PosixPath('data/pizza_steak_sushi/test'))"
            ]
          },
          "metadata": {},
          "execution_count": 7
        }
      ]
    },
    {
      "cell_type": "code",
      "source": [],
      "metadata": {
        "id": "7bIDxBwUqt1M"
      },
      "execution_count": null,
      "outputs": []
    }
  ]
}