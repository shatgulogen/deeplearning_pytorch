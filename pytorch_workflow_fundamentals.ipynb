{
  "nbformat": 4,
  "nbformat_minor": 0,
  "metadata": {
    "colab": {
      "provenance": [],
      "authorship_tag": "ABX9TyNoqOAlFhd7H/cZ5IjgW5TC"
    },
    "kernelspec": {
      "name": "python3",
      "display_name": "Python 3"
    },
    "language_info": {
      "name": "python"
    }
  },
  "cells": [
    {
      "cell_type": "markdown",
      "source": [
        "# A Standard PyTorch Workflow\n",
        "\n",
        "1. Get data ready (turn into tensors)\n",
        "2. Build or pick a pretrained model (to suit your problem)\n",
        "  \n",
        "  2.1 Pick a loss function & optimizer\n",
        "\n",
        "  2.2 Build a training loop\n",
        "3. Fit the model to the data and make a prediction\n",
        "4. Evaluate the model\n",
        "5. Improve through experimentation\n",
        "6. Save and reload your trained model"
      ],
      "metadata": {
        "id": "FWLYtZ4iWN4z"
      }
    },
    {
      "cell_type": "markdown",
      "source": [
        "We're going to get `torch`, `torch.nn` (nn stands for neural network and this package contains the building blocks for creating neural networks in PyTorch) and `matplotlib`."
      ],
      "metadata": {
        "id": "PWK3CiIGXlLV"
      }
    },
    {
      "cell_type": "code",
      "execution_count": 1,
      "metadata": {
        "colab": {
          "base_uri": "https://localhost:8080/",
          "height": 38
        },
        "id": "mhL5K92DVoDD",
        "outputId": "d014cd9f-1412-4edb-cac3-5eea3f5e7f31"
      },
      "outputs": [
        {
          "output_type": "execute_result",
          "data": {
            "text/plain": [
              "'2.5.1+cu124'"
            ],
            "application/vnd.google.colaboratory.intrinsic+json": {
              "type": "string"
            }
          },
          "metadata": {},
          "execution_count": 1
        }
      ],
      "source": [
        "import torch\n",
        "from torch import nn # nn contains all of PyTorch's building blocks for neural networks\n",
        "import matplotlib.pyplot as plt\n",
        "\n",
        "# Check PyTorch version\n",
        "torch.__version__"
      ]
    },
    {
      "cell_type": "code",
      "source": [],
      "metadata": {
        "id": "PVjWe8qpXycb"
      },
      "execution_count": null,
      "outputs": []
    }
  ]
}