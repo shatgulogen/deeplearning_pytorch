{
  "nbformat": 4,
  "nbformat_minor": 0,
  "metadata": {
    "colab": {
      "provenance": [],
      "authorship_tag": "ABX9TyN1anB467KoKdBCXAgFUIip"
    },
    "kernelspec": {
      "name": "python3",
      "display_name": "Python 3"
    },
    "language_info": {
      "name": "python"
    }
  },
  "cells": [
    {
      "cell_type": "markdown",
      "source": [
        "#02. PyTorch Neural Network Classification"
      ],
      "metadata": {
        "id": "F2UULVtuvcDX"
      }
    },
    {
      "cell_type": "code",
      "execution_count": null,
      "metadata": {
        "id": "7A5wwz2LvGyN"
      },
      "outputs": [],
      "source": []
    }
  ]
}